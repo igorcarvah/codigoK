{
 "cells": [
  {
   "cell_type": "code",
   "execution_count": 6,
   "id": "388cb9fc-8b13-45cc-8e8a-24f4fee3b74e",
   "metadata": {},
   "outputs": [
    {
     "name": "stderr",
     "output_type": "stream",
     "text": [
      "Warning message:\n",
      "\"o pacote 'tidyverse' está em uso e não será instalado\"\n",
      "Warning message:\n",
      "\"o pacote 'scales' está em uso e não será instalado\"\n"
     ]
    },
    {
     "name": "stdout",
     "output_type": "stream",
     "text": [
      "--- Análise do Modelo ---\n",
      "Coeficiente de Regressão (inclinação): 19221 \n",
      "Intercepto: 125235 \n",
      "R-quadrado: 0.4892074 \n",
      "\n",
      "\n",
      "--- Previsões Futuras ---\n",
      "  Mes_Num        Mes Previsao\n",
      "1      20 2025-08-01  509.655\n",
      "2      21 2025-09-01  528.876\n",
      "3      22 2025-10-01  548.097\n",
      "4      23 2025-11-01  567.318\n",
      "5      24 2025-12-01  586.539\n",
      "6      25 2026-01-01  605.760\n"
     ]
    },
    {
     "data": {
      "image/png": "[encoded data removed]",
      "text/plain": [
       "plot without title"
      ]
     },
     "metadata": {
      "image/png": {
       "height": 420,
       "width": 420
      }
     },
     "output_type": "display_data"
    }
   ],
   "source": [
    "# Instalar e carregar as bibliotecas (instale apenas uma vez)\n",
    "install.packages(\"tidyverse\")\n",
    "install.packages(\"scales\")\n",
    "\n",
    "library(tidyverse)\n",
    "library(scales)\n",
    "\n",
    "# ==== 1. Dados históricos ====\n",
    "dados <- data.frame(\n",
    "  Mes = c(\n",
    "    \"01/01/2024\", \"01/02/2024\", \"01/03/2024\", \"01/04/2024\", \"01/05/2024\", \"01/06/2024\",\n",
    "    \"01/07/2024\", \"01/08/2024\", \"01/09/2024\", \"01/10/2024\", \"01/11/2024\", \"01/12/2024\",\n",
    "    \"01/01/2025\", \"01/02/2025\", \"01/03/2025\", \"01/04/2025\", \"01/05/2025\", \"01/06/2025\", \"01/07/2025\"\n",
    "  ),\n",
    "  Faturamento_Real = c(\n",
    "    \"R$ 2.620,68\", \"R$ 80.693,12\", \"R$ 70.286,31\", \"R$ 158.058,36\", \"R$ 296.191,82\", \"R$ 308.076,50\",\n",
    "    \"R$ 361.212,83\", \"R$ 307.798,52\", \"R$ 311.393,62\", \"R$ 465.196,55\", \"R$ 593.113,50\", \"R$ 509.939,17\",\n",
    "    \"R$ 333.842,88\", \"R$ 284.440,39\", \"R$ 353.777,76\", \"R$ 315.848,17\", \"R$ 378.383,84\", \"R$ 380.824,36\", \"R$ 519.756,48\"\n",
    "  )\n",
    ")\n",
    "\n",
    "# ==== 2. Preparação dos dados ====\n",
    "df <- dados %>%\n",
    "  mutate(\n",
    "    Mes = as.Date(Mes, format = \"%d/%m/%Y\"),\n",
    "    Faturamento_Real = as.numeric(gsub(\"R\\\\$ |\\\\.\", \"\", Faturamento_Real) %>% gsub(\",\", \".\", .)),\n",
    "    Mes_Num = 1:n()\n",
    "  )\n",
    "\n",
    "# ==== 3. Treinamento do modelo ====\n",
    "modelo <- lm(Faturamento_Real ~ Mes_Num, data = df)\n",
    "\n",
    "# Exibir os coeficientes e R-quadrado\n",
    "resumo_modelo <- summary(modelo)\n",
    "cat(\"--- Análise do Modelo ---\\n\")\n",
    "cat(\"Coeficiente de Regressão (inclinação):\", coef(modelo)[2], \"\\n\")\n",
    "cat(\"Intercepto:\", coef(modelo)[1], \"\\n\")\n",
    "cat(\"R-quadrado:\", resumo_modelo$r.squared, \"\\n\\n\")\n",
    "\n",
    "# ==== 4. Previsão de Ago/2025 a Jan/2026 ====\n",
    "meses_futuros_num <- (nrow(df) + 1):(nrow(df) + 6)\n",
    "df_prev <- data.frame(Mes_Num = meses_futuros_num)\n",
    "previsoes <- predict(modelo, newdata = df_prev)\n",
    "\n",
    "df_prev$Mes <- seq(from = as.Date(\"2025-08-01\"), by = \"month\", length.out = 6)\n",
    "df_prev$Previsao <- previsoes\n",
    "\n",
    "# ==== 5. Criar e Exibir o gráfico ====\n",
    "# Juntar os dados reais e as previsões para o gráfico\n",
    "df_completo <- bind_rows(\n",
    "  df %>% select(Mes, valor = Faturamento_Real),\n",
    "  df_prev %>% select(Mes, valor = Previsao)\n",
    ")\n",
    "\n",
    "# Código do gráfico\n",
    "grafico_final <- ggplot(df_completo, aes(x = Mes, y = valor)) +\n",
    "  # Linha e pontos do faturamento real\n",
    "  geom_line(data = df, aes(y = Faturamento_Real, color = \"Real\"), linewidth = 1) +\n",
    "  geom_point(data = df, aes(y = Faturamento_Real, color = \"Real\"), size = 3) +\n",
    "  geom_text(data = df, aes(y = Faturamento_Real, label = scales::comma(Faturamento_Real, big.mark = \".\", decimal.mark = \",\")), vjust = -1, size = 3) +\n",
    "  # Linha e pontos da previsão\n",
    "  geom_line(data = df_prev, aes(y = Previsao, color = \"Previsão\"), linetype = \"dashed\", linewidth = 1) +\n",
    "  geom_point(data = df_prev, aes(y = Previsao, color = \"Previsão\"), size = 3, shape = 4) +\n",
    "  geom_text(data = df_prev, aes(y = Previsao, label = scales::comma(Previsao, big.mark = \".\", decimal.mark = \",\")), vjust = -1, size = 3) +\n",
    "  \n",
    "  # Configurações do gráfico\n",
    "  labs(\n",
    "    title = \"Regressão Linear - Faturamento Real vs Previsão\",\n",
    "    x = \"Mês\",\n",
    "    y = \"Faturamento (R$)\",\n",
    "    color = \"Dados\"\n",
    "  ) +\n",
    "  scale_y_continuous(labels = scales::dollar_format(prefix = \"R$ \", big.mark = \".\", decimal.mark = \",\")) +\n",
    "  scale_color_manual(values = c(\"Real\" = \"blue\", \"Previsão\" = \"red\")) +\n",
    "  theme_minimal() +\n",
    "  theme(legend.position = \"bottom\")\n",
    "\n",
    "# Exibe o gráfico na janela de saída\n",
    "print(grafico_final)\n",
    "\n",
    "# Salva o gráfico em um arquivo com dimensões maiores\n",
    "ggsave(\"grafico_faturamento_final.png\", plot = grafico_final, width = 12, height = 8, dpi = 300)\n",
    "\n",
    "# ==== 6. Exibir previsões formatadas ====\n",
    "cat(\"\\n--- Previsões Futuras ---\\n\")\n",
    "print(df_prev %>% mutate(\n",
    "  Previsao = scales::comma(Previsao, big.mark = \".\", decimal.mark = \",\"),\n",
    "  Mes = format(Mes, \"%Y-%m-%d\")\n",
    "))\n"
   ]
  },
  {
   "cell_type": "code",
   "execution_count": null,
   "id": "95816929-66cc-41f9-b364-34a4f4b120e0",
   "metadata": {},
   "outputs": [],
   "source": []
  },
  {
   "cell_type": "code",
   "execution_count": null,
   "id": "12f60ea9-b320-4684-b0e9-10542d71051b",
   "metadata": {},
   "outputs": [],
   "source": []
  }
 ],
 "metadata": {
  "kernelspec": {
   "display_name": "R [conda env:projeto]",
   "language": "R",
   "name": "conda-env-projeto-r"
  },
  "language_info": {
   "codemirror_mode": "r",
   "file_extension": ".r",
   "mimetype": "text/x-r-source",
   "name": "R",
   "pygments_lexer": "r",
   "version": "4.4.3"
  }
 },
 "nbformat": 4,
 "nbformat_minor": 5
}
